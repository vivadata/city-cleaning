{
 "cells": [
  {
   "cell_type": "code",
   "execution_count": null,
   "id": "ed7d889e",
   "metadata": {},
   "outputs": [],
   "source": [
    "import datetime as dt\n",
    "import io\n",
    "import json\n",
    "import pandas as pd\n",
    "import requests as rq\n",
    "import zipfile as zf\n",
    "\n",
    "from chardet import detect\n",
    "from sqlalchemy import create_engine"
   ]
  },
  {
   "cell_type": "code",
   "execution_count": null,
   "id": "2417938a",
   "metadata": {},
   "outputs": [],
   "source": [
    "HIST_UID = \"dczd2t\"\n",
    "api_calls = 0"
   ]
  },
  {
   "cell_type": "code",
   "execution_count": null,
   "id": "68114439",
   "metadata": {},
   "outputs": [],
   "source": [
    "frames = dict()\n",
    "\n",
    "with open(\"../assets/datasets.json\") as _datasets_:\n",
    "    sets = json.load(_datasets_)\n",
    "    hists = \\\n",
    "        [\n",
    "            _ for _ in sets[\"results\"]\n",
    "            if _[\"dataset_uid\"] == f\"da_{HIST_UID}\"\n",
    "        ]\n",
    "\n",
    "    if len(hists) == 1:\n",
    "        hists = hists[0]\n",
    "\n",
    "        for hist in hists[\"attachments\"]:\n",
    "            request = rq.get(hist[\"url\"])\n",
    "\n",
    "            with zf.ZipFile(io.BytesIO(request.content)) as _zip_:\n",
    "                filename = hist[\"title\"].split(\".zip\")[0]\n",
    "                title = filename.split(\".csv\")[0]\n",
    "                encoding = \"UTF-8\"\n",
    "\n",
    "                with _zip_.open(filename) as file:\n",
    "                    data = file.read()\n",
    "                    encoding = detect(data[:10000])\n",
    "                \n",
    "                frames[title] = \\\n",
    "                    pd.read_csv(\n",
    "                        _zip_.open(filename),\n",
    "                        sep=\";\",\n",
    "                        encoding=encoding[\"encoding\"]\n",
    "                    )"
   ]
  },
  {
   "cell_type": "code",
   "execution_count": null,
   "id": "1ed9beb9",
   "metadata": {},
   "outputs": [],
   "source": [
    "dfs = frames.copy()\n",
    "\n",
    "new_columns = {\n",
    "    \"OBJECTID\": \"object_id\",\n",
    "    \"OID_\": \"object_id\",\n",
    "    \"ID_DMR\": \"id_dmr\",\n",
    "    \"TYPE\": \"type\",\n",
    "    \"SOUSTYPE\": \"sous_type\",\n",
    "    \"soustype\": \"sous_type\",\n",
    "    \"ADRESSE\": \"adresse\",\n",
    "    \"CODE_POSTAL\": \"code_postal\",\n",
    "    \"VILLE\": \"ville\",\n",
    "    \"ARRONDISSEMENT\": \"arrondissement\",\n",
    "    \"DATEDECL\": \"date_collecte\",\n",
    "    \"datedecl\": \"date_collecte\",\n",
    "    \"ANNEEDECL\": \"annee_collecte\",\n",
    "    \"anneedecl\": \"annee_collecte\",\n",
    "    \"MOISDECL\": \"mois_collecte\",\n",
    "    \"moisdecl\": \"mois_collecte\",\n",
    "    \"ETAT\": \"etat\",\n",
    "    \"DATEETAT\": \"date_etat\",\n",
    "    \"dateetat\": \"date_etat\",\n",
    "    \"NUMERO\": \"numero\",\n",
    "    \"PREFIXE\": \"prefixe\",\n",
    "    \"INTERVENANT\": \"intervenant\",\n",
    "    \"CONSEILQUARTIER\": \"conseil_quartier\",\n",
    "    \"conseilquartier\": \"conseil_quartier\",\n",
    "    \"X\": \"longitude\",\n",
    "    \"Y\": \"latitude\",\n",
    "}\n",
    "\n",
    "for key in dfs.keys():\n",
    "    dfs[key] = dfs[key].rename(columns=new_columns)\n",
    "\n",
    "    if \"object_id\" not in dfs[key].columns:\n",
    "        dfs[key][\"object_id\"] = 0\n",
    "\n",
    "    if \"etat\" not in dfs[key].columns:\n",
    "        dfs[key][\"etat\"] = \"Etat inconnnu\"\n",
    "\n",
    "    if \"date_etat\" not in dfs[key].columns:\n",
    "        next_year = int(key.split(\"_\")[1])\n",
    "        dfs[key][\"date_etat\"] = \\\n",
    "            dt.datetime(next_year, 1, 1).strftime(\"%d/%m/%Y %H:%M:%S\")"
   ]
  },
  {
   "cell_type": "code",
   "execution_count": null,
   "id": "b9191a4e",
   "metadata": {},
   "outputs": [],
   "source": [
    "df_full = pd.concat(list(dfs.values()), ignore_index=True)"
   ]
  },
  {
   "cell_type": "code",
   "execution_count": null,
   "id": "a6711390",
   "metadata": {},
   "outputs": [],
   "source": [
    "df_full[\"ville\"] = df_full[\"ville\"].apply(\n",
    "    lambda v: \\\n",
    "        f\"Paris {v.split(\"aris 0\")[1]}\" \\\n",
    "            if \"aris 0\" in v \\\n",
    "            else v\n",
    ")"
   ]
  },
  {
   "cell_type": "code",
   "execution_count": null,
   "id": "56ecf083",
   "metadata": {},
   "outputs": [],
   "source": [
    "df_full[\"arrondissement\"] = df_full[\"arrondissement\"].apply(\n",
    "    lambda a: \\\n",
    "        str(a).split(\",\")[0] \\\n",
    "            if len(str(a).split(\",\")[0]) == 2 \\\n",
    "            else f\"0{str(a).split(\",\")[0]}\"\n",
    ")"
   ]
  },
  {
   "cell_type": "code",
   "execution_count": null,
   "id": "fed6ca19",
   "metadata": {},
   "outputs": [],
   "source": [
    "df_full[\"code_postal\"] = \\\n",
    "    df_full[\"code_postal\"] \\\n",
    "        .fillna(df_full[\"arrondissement\"]) \\\n",
    "        .astype(\"string\") \\\n",
    "        .apply(lambda c: \\\n",
    "            f\"750{c}\" if len(c) == 2 \\\n",
    "                else c.split('.')[0] if '.'in c \\\n",
    "                else c.split(',')[0] if ','in c \\\n",
    "                else c\n",
    "        )"
   ]
  },
  {
   "cell_type": "code",
   "execution_count": null,
   "id": "ce4482d3",
   "metadata": {},
   "outputs": [],
   "source": [
    "df_full[\"latitude\"] = \\\n",
    "    df_full[\"latitude\"].apply(\n",
    "        lambda lat: float(lat.replace(\",\", \".\"))\n",
    "    ).astype(\"float\")\n",
    "\n",
    "df_full[\"longitude\"] = \\\n",
    "    df_full[\"longitude\"].apply(\n",
    "        lambda lon: float(lon.replace(\",\", \".\"))\n",
    "    ).astype(\"float\")"
   ]
  },
  {
   "cell_type": "code",
   "execution_count": null,
   "id": "50d3adcb",
   "metadata": {},
   "outputs": [],
   "source": [
    "df_full[\"coords\"] = \\\n",
    "    (df_full[\"longitude\"].astype(\"string\") + \",\" + df_full[\"latitude\"].astype(\"string\")) \\\n",
    "    .apply(\n",
    "        lambda c: (float(c.split(\",\")[0]), float(c.split(\",\")[1]))\n",
    "    )"
   ]
  },
  {
   "cell_type": "code",
   "execution_count": null,
   "id": "f5772714",
   "metadata": {},
   "outputs": [],
   "source": [
    "if df_full[\"adresse\"].isna().sum() > 0:\n",
    "    missing = {}\n",
    "    indexes = \\\n",
    "        df_full[df_full[\"adresse\"].isna()].index.to_list()\n",
    "    \n",
    "    for _ in indexes:\n",
    "        missing[str(_)] = (\n",
    "            df_full.loc[_, \"latitude\"],\n",
    "            df_full.loc[_, \"longitude\"]\n",
    "        )\n",
    "\n",
    "    for _ in missing.keys():\n",
    "        values = [\n",
    "            a for a \\\n",
    "                in df_full[df_full[\"coords\"] == missing[_]][\"adresse\"].unique() \\\n",
    "                if type(a) == str\n",
    "        ]\n",
    "    \n",
    "        if len(values) > 0:\n",
    "            df_full.at[int(_), \"adresse\"] = values[0]"
   ]
  },
  {
   "cell_type": "code",
   "execution_count": null,
   "id": "1f1d238b",
   "metadata": {},
   "outputs": [],
   "source": [
    "if df_full[\"conseil_quartier\"].isna().sum() > 0:\n",
    "    indexes = \\\n",
    "        df_full[df_full[\"conseil_quartier\"].isna()].index.to_list()\n",
    "    \n",
    "    for _ in indexes:\n",
    "        missing[str(_)] = df_full.loc[_, \"adresse\"]\n",
    "\n",
    "    for _ in missing.keys():\n",
    "        values = [\n",
    "            a for a \\\n",
    "                in df_full[df_full[\"adresse\"] == missing[_]][\"conseil_quartier\"].unique() \\\n",
    "                if type(a) == str\n",
    "        ]\n",
    "    \n",
    "        if len(values) > 0:\n",
    "            df_full.at[int(_), \"conseil_quartier\"] = values[0]"
   ]
  },
  {
   "cell_type": "code",
   "execution_count": null,
   "id": "b422621a",
   "metadata": {},
   "outputs": [],
   "source": [
    "df_full[\"sous_type\"] = df_full[\"sous_type\"].fillna(\"Sous-type inconnu\")\n",
    "df_full[\"intervenant\"] = df_full[\"intervenant\"].fillna(\"Intervenant inconnu\")\n",
    "df_full[\"numero\"] = df_full[\"numero\"].apply(lambda n: int(str(n).split(\",\")[0]))"
   ]
  },
  {
   "cell_type": "code",
   "execution_count": null,
   "id": "0bfba368",
   "metadata": {},
   "outputs": [],
   "source": [
    "print(df_full.shape)\n",
    "print(df_full.isna().sum())\n",
    "df_full = df_full.dropna()\n",
    "print(df_full.shape)"
   ]
  },
  {
   "cell_type": "code",
   "execution_count": null,
   "id": "c541284d",
   "metadata": {},
   "outputs": [],
   "source": [
    "#df_full.to_csv(\"./DMR_history.csv\", sep=\";\")\n",
    "\n",
    "#df_full.to_parquet(\"./DMR_history.parquet\")\n",
    "\n",
    "#engine = create_engine(\"sqlite:///./dmr_hist.db\")\n",
    "#df_full.to_sql(\"./DMR_history.sql\", engine)"
   ]
  }
 ],
 "metadata": {
  "kernelspec": {
   "display_name": "Python 3",
   "language": "python",
   "name": "python3"
  },
  "language_info": {
   "codemirror_mode": {
    "name": "ipython",
    "version": 3
   },
   "file_extension": ".py",
   "mimetype": "text/x-python",
   "name": "python",
   "nbconvert_exporter": "python",
   "pygments_lexer": "ipython3",
   "version": "3.13.7"
  }
 },
 "nbformat": 4,
 "nbformat_minor": 5
}
